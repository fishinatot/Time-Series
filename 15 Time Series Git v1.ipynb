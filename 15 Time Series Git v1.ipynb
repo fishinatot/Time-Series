{
 "cells": [
  {
   "cell_type": "markdown",
   "id": "36332ed2",
   "metadata": {},
   "source": [
    "# Project Description\n",
    "\n",
    "Sweet Lift Taxi company has collected historical data on taxi orders at airports.\n",
    "\n",
    "To attract more drivers during peak hours, we need to predict the amount of taxi orders for the next hour.\n",
    "\n",
    "Build a model for such a prediction.\n",
    "\n",
    "The RMSE metric on the test set should not be more than 48.\n"
   ]
  },
  {
   "cell_type": "markdown",
   "id": "a559191b",
   "metadata": {},
   "source": [
    "# imports"
   ]
  },
  {
   "cell_type": "code",
   "execution_count": 56,
   "id": "70cfa69f",
   "metadata": {
    "ExecuteTime": {
     "end_time": "2022-09-22T13:58:23.141992Z",
     "start_time": "2022-09-22T13:58:23.009048Z"
    }
   },
   "outputs": [],
   "source": [
    "from sklearn.linear_model import LinearRegression\n",
    "import pandas as pd\n",
    "import numpy as np\n",
    "from sklearn import metrics\n",
    "from sklearn.metrics import mean_squared_error\n",
    "from sklearn.model_selection import train_test_split\n",
    "from sklearn.ensemble import RandomForestRegressor\n",
    "from sklearn.utils import shuffle\n",
    "from sklearn.linear_model import LinearRegression\n",
    "from statsmodels.tsa.seasonal import seasonal_decompose\n",
    "import matplotlib.pyplot as plt\n",
    "from sklearn.preprocessing import StandardScaler \n",
    "from sklearn.linear_model import LogisticRegression\n",
    "import math"
   ]
  },
  {
   "cell_type": "markdown",
   "id": "81a6099e",
   "metadata": {},
   "source": [
    "# Download the data and resample it by one hour"
   ]
  },
  {
   "cell_type": "code",
   "execution_count": 57,
   "id": "fe38a42d",
   "metadata": {
    "ExecuteTime": {
     "end_time": "2022-09-22T13:58:23.861073Z",
     "start_time": "2022-09-22T13:58:23.161940Z"
    }
   },
   "outputs": [
    {
     "data": {
      "text/html": [
       "<div>\n",
       "<style scoped>\n",
       "    .dataframe tbody tr th:only-of-type {\n",
       "        vertical-align: middle;\n",
       "    }\n",
       "\n",
       "    .dataframe tbody tr th {\n",
       "        vertical-align: top;\n",
       "    }\n",
       "\n",
       "    .dataframe thead th {\n",
       "        text-align: right;\n",
       "    }\n",
       "</style>\n",
       "<table border=\"1\" class=\"dataframe\">\n",
       "  <thead>\n",
       "    <tr style=\"text-align: right;\">\n",
       "      <th></th>\n",
       "      <th>num_orders</th>\n",
       "    </tr>\n",
       "    <tr>\n",
       "      <th>datetime</th>\n",
       "      <th></th>\n",
       "    </tr>\n",
       "  </thead>\n",
       "  <tbody>\n",
       "    <tr>\n",
       "      <th>2018-03-01 00:00:00</th>\n",
       "      <td>9</td>\n",
       "    </tr>\n",
       "    <tr>\n",
       "      <th>2018-03-01 00:10:00</th>\n",
       "      <td>14</td>\n",
       "    </tr>\n",
       "    <tr>\n",
       "      <th>2018-03-01 00:20:00</th>\n",
       "      <td>28</td>\n",
       "    </tr>\n",
       "    <tr>\n",
       "      <th>2018-03-01 00:30:00</th>\n",
       "      <td>20</td>\n",
       "    </tr>\n",
       "    <tr>\n",
       "      <th>2018-03-01 00:40:00</th>\n",
       "      <td>32</td>\n",
       "    </tr>\n",
       "  </tbody>\n",
       "</table>\n",
       "</div>"
      ],
      "text/plain": [
       "                     num_orders\n",
       "datetime                       \n",
       "2018-03-01 00:00:00           9\n",
       "2018-03-01 00:10:00          14\n",
       "2018-03-01 00:20:00          28\n",
       "2018-03-01 00:30:00          20\n",
       "2018-03-01 00:40:00          32"
      ]
     },
     "metadata": {},
     "output_type": "display_data"
    },
    {
     "data": {
      "text/html": [
       "<div>\n",
       "<style scoped>\n",
       "    .dataframe tbody tr th:only-of-type {\n",
       "        vertical-align: middle;\n",
       "    }\n",
       "\n",
       "    .dataframe tbody tr th {\n",
       "        vertical-align: top;\n",
       "    }\n",
       "\n",
       "    .dataframe thead th {\n",
       "        text-align: right;\n",
       "    }\n",
       "</style>\n",
       "<table border=\"1\" class=\"dataframe\">\n",
       "  <thead>\n",
       "    <tr style=\"text-align: right;\">\n",
       "      <th></th>\n",
       "      <th>num_orders</th>\n",
       "    </tr>\n",
       "    <tr>\n",
       "      <th>datetime</th>\n",
       "      <th></th>\n",
       "    </tr>\n",
       "  </thead>\n",
       "  <tbody>\n",
       "    <tr>\n",
       "      <th>2018-03-01 00:00:00</th>\n",
       "      <td>124</td>\n",
       "    </tr>\n",
       "    <tr>\n",
       "      <th>2018-03-01 01:00:00</th>\n",
       "      <td>85</td>\n",
       "    </tr>\n",
       "    <tr>\n",
       "      <th>2018-03-01 02:00:00</th>\n",
       "      <td>71</td>\n",
       "    </tr>\n",
       "    <tr>\n",
       "      <th>2018-03-01 03:00:00</th>\n",
       "      <td>66</td>\n",
       "    </tr>\n",
       "    <tr>\n",
       "      <th>2018-03-01 04:00:00</th>\n",
       "      <td>43</td>\n",
       "    </tr>\n",
       "  </tbody>\n",
       "</table>\n",
       "</div>"
      ],
      "text/plain": [
       "                     num_orders\n",
       "datetime                       \n",
       "2018-03-01 00:00:00         124\n",
       "2018-03-01 01:00:00          85\n",
       "2018-03-01 02:00:00          71\n",
       "2018-03-01 03:00:00          66\n",
       "2018-03-01 04:00:00          43"
      ]
     },
     "metadata": {},
     "output_type": "display_data"
    }
   ],
   "source": [
    "try:\n",
    "    path='C:\\\\Users\\\\aviv\\\\Downloads\\\\taxi.csv'\n",
    "    data = pd.read_csv(path, index_col=[0], parse_dates=[0])\n",
    "    display(data.head())\n",
    "    \n",
    "except:\n",
    "    path = '/datasets/taxi.csv'\n",
    "    data = pd.read_csv(path, index_col=[0], parse_dates=[0])\n",
    "    print(data.head())\n",
    "    \n",
    "data.sort_index(inplace=True)\n",
    "data = data.resample('1H').sum()\n",
    "display(data.head())\n",
    "\n"
   ]
  },
  {
   "cell_type": "markdown",
   "id": "d7010b08",
   "metadata": {},
   "source": [
    "# Analyze the data"
   ]
  },
  {
   "cell_type": "code",
   "execution_count": 58,
   "id": "a1bb6d2d",
   "metadata": {
    "ExecuteTime": {
     "end_time": "2022-09-22T13:58:26.972967Z",
     "start_time": "2022-09-22T13:58:23.873039Z"
    }
   },
   "outputs": [
    {
     "data": {
      "text/plain": [
       "<AxesSubplot:xlabel='datetime'>"
      ]
     },
     "metadata": {},
     "output_type": "display_data"
    },
    {
     "data": {
      "image/png": "[encoded data removed]",
      "text/plain": [
       "<Figure size 432x288 with 1 Axes>"
      ]
     },
     "metadata": {
      "needs_background": "light"
     },
     "output_type": "display_data"
    }
   ],
   "source": [
    "display(data.plot())\n",
    "\n"
   ]
  },
  {
   "cell_type": "markdown",
   "id": "3ca418c7",
   "metadata": {},
   "source": [
    "we can see a little cyclicity, we can probably extract it"
   ]
  },
  {
   "cell_type": "code",
   "execution_count": 59,
   "id": "8312829f",
   "metadata": {
    "ExecuteTime": {
     "end_time": "2022-09-22T13:58:27.715504Z",
     "start_time": "2022-09-22T13:58:26.979949Z"
    }
   },
   "outputs": [
    {
     "data": {
      "text/plain": [
       "<AxesSubplot:xlabel='datetime'>"
      ]
     },
     "metadata": {},
     "output_type": "display_data"
    },
    {
     "data": {
      "image/png": "[encoded data removed]",
      "text/plain": [
       "<Figure size 432x288 with 1 Axes>"
      ]
     },
     "metadata": {
      "needs_background": "light"
     },
     "output_type": "display_data"
    }
   ],
   "source": [
    "decomposed = seasonal_decompose(data)\n",
    "display(decomposed.trend.plot())\n"
   ]
  },
  {
   "cell_type": "markdown",
   "id": "574fc882",
   "metadata": {},
   "source": [
    "the trend is interesting, it's as if when spring arrives people want to get out and use their feet more, and as the summer and winter approach they lose their patience and use more and more taxis."
   ]
  },
  {
   "cell_type": "code",
   "execution_count": 60,
   "id": "13bfb999",
   "metadata": {
    "ExecuteTime": {
     "end_time": "2022-09-22T13:58:28.374320Z",
     "start_time": "2022-09-22T13:58:27.720491Z"
    }
   },
   "outputs": [
    {
     "data": {
      "text/plain": [
       "<AxesSubplot:xlabel='datetime'>"
      ]
     },
     "metadata": {},
     "output_type": "display_data"
    },
    {
     "data": {
      "image/png": "[encoded data removed]",
      "text/plain": [
       "<Figure size 432x288 with 1 Axes>"
      ]
     },
     "metadata": {
      "needs_background": "light"
     },
     "output_type": "display_data"
    }
   ],
   "source": [
    "display(decomposed.seasonal.plot())"
   ]
  },
  {
   "cell_type": "markdown",
   "id": "abd09ddc",
   "metadata": {},
   "source": [
    "that's solid. let's look at a smaller slice:"
   ]
  },
  {
   "cell_type": "code",
   "execution_count": 61,
   "id": "6564eeca",
   "metadata": {
    "ExecuteTime": {
     "end_time": "2022-09-22T13:58:28.799607Z",
     "start_time": "2022-09-22T13:58:28.385290Z"
    }
   },
   "outputs": [
    {
     "data": {
      "text/plain": [
       "<AxesSubplot:xlabel='datetime'>"
      ]
     },
     "metadata": {},
     "output_type": "display_data"
    },
    {
     "data": {
      "image/png": "[encoded data removed]",
      "text/plain": [
       "<Figure size 432x288 with 1 Axes>"
      ]
     },
     "metadata": {
      "needs_background": "light"
     },
     "output_type": "display_data"
    }
   ],
   "source": [
    "display(decomposed.seasonal['2018-03-01':'2018-03-03'].plot());"
   ]
  },
  {
   "cell_type": "markdown",
   "id": "fffeaa68",
   "metadata": {},
   "source": [
    "regular peaks at midnight, and a sharp drop until about 6 in the morning, where people start getting to work.\n",
    "\n",
    "after that a rise until lunch time, drop until supper, then rise until midnight."
   ]
  },
  {
   "cell_type": "code",
   "execution_count": 62,
   "id": "d36e108a",
   "metadata": {
    "ExecuteTime": {
     "end_time": "2022-09-22T13:58:29.402800Z",
     "start_time": "2022-09-22T13:58:28.805575Z"
    }
   },
   "outputs": [
    {
     "data": {
      "text/plain": [
       "<AxesSubplot:xlabel='datetime'>"
      ]
     },
     "metadata": {},
     "output_type": "display_data"
    },
    {
     "data": {
      "image/png": "[encoded data removed]",
      "text/plain": [
       "<Figure size 432x288 with 1 Axes>"
      ]
     },
     "metadata": {
      "needs_background": "light"
     },
     "output_type": "display_data"
    }
   ],
   "source": [
    "display(decomposed.resid.plot())"
   ]
  },
  {
   "cell_type": "code",
   "execution_count": 63,
   "id": "0ea56836",
   "metadata": {
    "ExecuteTime": {
     "end_time": "2022-09-22T13:58:29.765823Z",
     "start_time": "2022-09-22T13:58:29.407779Z"
    }
   },
   "outputs": [
    {
     "data": {
      "text/plain": [
       "<AxesSubplot:xlabel='datetime'>"
      ]
     },
     "metadata": {},
     "output_type": "display_data"
    },
    {
     "data": {
      "image/png": "[encoded data removed]",
      "text/plain": [
       "<Figure size 432x288 with 1 Axes>"
      ]
     },
     "metadata": {
      "needs_background": "light"
     },
     "output_type": "display_data"
    }
   ],
   "source": [
    "display(decomposed.resid['2018-03-01':'2018-03-05'].plot())"
   ]
  },
  {
   "cell_type": "markdown",
   "id": "d18f6fed",
   "metadata": {},
   "source": [
    "that's just noise but there's more noise (more orders that aren't part of the trend and the regulars) towards the end of the series. more people use taxis as the autumn arrives and with it more rainy days."
   ]
  },
  {
   "cell_type": "markdown",
   "id": "2a06578b",
   "metadata": {},
   "source": [
    "making features to forecast with:"
   ]
  },
  {
   "cell_type": "code",
   "execution_count": 64,
   "id": "81671e00",
   "metadata": {
    "ExecuteTime": {
     "end_time": "2022-09-22T13:58:29.874533Z",
     "start_time": "2022-09-22T13:58:29.772804Z"
    }
   },
   "outputs": [
    {
     "data": {
      "text/html": [
       "<div>\n",
       "<style scoped>\n",
       "    .dataframe tbody tr th:only-of-type {\n",
       "        vertical-align: middle;\n",
       "    }\n",
       "\n",
       "    .dataframe tbody tr th {\n",
       "        vertical-align: top;\n",
       "    }\n",
       "\n",
       "    .dataframe thead th {\n",
       "        text-align: right;\n",
       "    }\n",
       "</style>\n",
       "<table border=\"1\" class=\"dataframe\">\n",
       "  <thead>\n",
       "    <tr style=\"text-align: right;\">\n",
       "      <th></th>\n",
       "      <th>num_orders</th>\n",
       "      <th>month</th>\n",
       "      <th>day</th>\n",
       "      <th>dayofweek</th>\n",
       "      <th>hour</th>\n",
       "      <th>lag_1</th>\n",
       "      <th>lag_2</th>\n",
       "      <th>lag_3</th>\n",
       "      <th>lag_4</th>\n",
       "      <th>lag_5</th>\n",
       "      <th>rolling_mean</th>\n",
       "    </tr>\n",
       "    <tr>\n",
       "      <th>datetime</th>\n",
       "      <th></th>\n",
       "      <th></th>\n",
       "      <th></th>\n",
       "      <th></th>\n",
       "      <th></th>\n",
       "      <th></th>\n",
       "      <th></th>\n",
       "      <th></th>\n",
       "      <th></th>\n",
       "      <th></th>\n",
       "      <th></th>\n",
       "    </tr>\n",
       "  </thead>\n",
       "  <tbody>\n",
       "    <tr>\n",
       "      <th>2018-03-01 00:00:00</th>\n",
       "      <td>124</td>\n",
       "      <td>3</td>\n",
       "      <td>1</td>\n",
       "      <td>3</td>\n",
       "      <td>0</td>\n",
       "      <td>NaN</td>\n",
       "      <td>NaN</td>\n",
       "      <td>NaN</td>\n",
       "      <td>NaN</td>\n",
       "      <td>NaN</td>\n",
       "      <td>NaN</td>\n",
       "    </tr>\n",
       "    <tr>\n",
       "      <th>2018-03-01 01:00:00</th>\n",
       "      <td>85</td>\n",
       "      <td>3</td>\n",
       "      <td>1</td>\n",
       "      <td>3</td>\n",
       "      <td>1</td>\n",
       "      <td>124.0</td>\n",
       "      <td>NaN</td>\n",
       "      <td>NaN</td>\n",
       "      <td>NaN</td>\n",
       "      <td>NaN</td>\n",
       "      <td>NaN</td>\n",
       "    </tr>\n",
       "    <tr>\n",
       "      <th>2018-03-01 02:00:00</th>\n",
       "      <td>71</td>\n",
       "      <td>3</td>\n",
       "      <td>1</td>\n",
       "      <td>3</td>\n",
       "      <td>2</td>\n",
       "      <td>85.0</td>\n",
       "      <td>124.0</td>\n",
       "      <td>NaN</td>\n",
       "      <td>NaN</td>\n",
       "      <td>NaN</td>\n",
       "      <td>NaN</td>\n",
       "    </tr>\n",
       "    <tr>\n",
       "      <th>2018-03-01 03:00:00</th>\n",
       "      <td>66</td>\n",
       "      <td>3</td>\n",
       "      <td>1</td>\n",
       "      <td>3</td>\n",
       "      <td>3</td>\n",
       "      <td>71.0</td>\n",
       "      <td>85.0</td>\n",
       "      <td>124.0</td>\n",
       "      <td>NaN</td>\n",
       "      <td>NaN</td>\n",
       "      <td>NaN</td>\n",
       "    </tr>\n",
       "    <tr>\n",
       "      <th>2018-03-01 04:00:00</th>\n",
       "      <td>43</td>\n",
       "      <td>3</td>\n",
       "      <td>1</td>\n",
       "      <td>3</td>\n",
       "      <td>4</td>\n",
       "      <td>66.0</td>\n",
       "      <td>71.0</td>\n",
       "      <td>85.0</td>\n",
       "      <td>124.0</td>\n",
       "      <td>NaN</td>\n",
       "      <td>NaN</td>\n",
       "    </tr>\n",
       "    <tr>\n",
       "      <th>2018-03-01 05:00:00</th>\n",
       "      <td>6</td>\n",
       "      <td>3</td>\n",
       "      <td>1</td>\n",
       "      <td>3</td>\n",
       "      <td>5</td>\n",
       "      <td>43.0</td>\n",
       "      <td>66.0</td>\n",
       "      <td>71.0</td>\n",
       "      <td>85.0</td>\n",
       "      <td>124.0</td>\n",
       "      <td>77.8</td>\n",
       "    </tr>\n",
       "    <tr>\n",
       "      <th>2018-03-01 06:00:00</th>\n",
       "      <td>12</td>\n",
       "      <td>3</td>\n",
       "      <td>1</td>\n",
       "      <td>3</td>\n",
       "      <td>6</td>\n",
       "      <td>6.0</td>\n",
       "      <td>43.0</td>\n",
       "      <td>66.0</td>\n",
       "      <td>71.0</td>\n",
       "      <td>85.0</td>\n",
       "      <td>54.2</td>\n",
       "    </tr>\n",
       "    <tr>\n",
       "      <th>2018-03-01 07:00:00</th>\n",
       "      <td>15</td>\n",
       "      <td>3</td>\n",
       "      <td>1</td>\n",
       "      <td>3</td>\n",
       "      <td>7</td>\n",
       "      <td>12.0</td>\n",
       "      <td>6.0</td>\n",
       "      <td>43.0</td>\n",
       "      <td>66.0</td>\n",
       "      <td>71.0</td>\n",
       "      <td>39.6</td>\n",
       "    </tr>\n",
       "    <tr>\n",
       "      <th>2018-03-01 08:00:00</th>\n",
       "      <td>34</td>\n",
       "      <td>3</td>\n",
       "      <td>1</td>\n",
       "      <td>3</td>\n",
       "      <td>8</td>\n",
       "      <td>15.0</td>\n",
       "      <td>12.0</td>\n",
       "      <td>6.0</td>\n",
       "      <td>43.0</td>\n",
       "      <td>66.0</td>\n",
       "      <td>28.4</td>\n",
       "    </tr>\n",
       "    <tr>\n",
       "      <th>2018-03-01 09:00:00</th>\n",
       "      <td>69</td>\n",
       "      <td>3</td>\n",
       "      <td>1</td>\n",
       "      <td>3</td>\n",
       "      <td>9</td>\n",
       "      <td>34.0</td>\n",
       "      <td>15.0</td>\n",
       "      <td>12.0</td>\n",
       "      <td>6.0</td>\n",
       "      <td>43.0</td>\n",
       "      <td>22.0</td>\n",
       "    </tr>\n",
       "  </tbody>\n",
       "</table>\n",
       "</div>"
      ],
      "text/plain": [
       "                     num_orders  month  day  dayofweek  hour  lag_1  lag_2  \\\n",
       "datetime                                                                     \n",
       "2018-03-01 00:00:00         124      3    1          3     0    NaN    NaN   \n",
       "2018-03-01 01:00:00          85      3    1          3     1  124.0    NaN   \n",
       "2018-03-01 02:00:00          71      3    1          3     2   85.0  124.0   \n",
       "2018-03-01 03:00:00          66      3    1          3     3   71.0   85.0   \n",
       "2018-03-01 04:00:00          43      3    1          3     4   66.0   71.0   \n",
       "2018-03-01 05:00:00           6      3    1          3     5   43.0   66.0   \n",
       "2018-03-01 06:00:00          12      3    1          3     6    6.0   43.0   \n",
       "2018-03-01 07:00:00          15      3    1          3     7   12.0    6.0   \n",
       "2018-03-01 08:00:00          34      3    1          3     8   15.0   12.0   \n",
       "2018-03-01 09:00:00          69      3    1          3     9   34.0   15.0   \n",
       "\n",
       "                     lag_3  lag_4  lag_5  rolling_mean  \n",
       "datetime                                                \n",
       "2018-03-01 00:00:00    NaN    NaN    NaN           NaN  \n",
       "2018-03-01 01:00:00    NaN    NaN    NaN           NaN  \n",
       "2018-03-01 02:00:00    NaN    NaN    NaN           NaN  \n",
       "2018-03-01 03:00:00  124.0    NaN    NaN           NaN  \n",
       "2018-03-01 04:00:00   85.0  124.0    NaN           NaN  \n",
       "2018-03-01 05:00:00   71.0   85.0  124.0          77.8  \n",
       "2018-03-01 06:00:00   66.0   71.0   85.0          54.2  \n",
       "2018-03-01 07:00:00   43.0   66.0   71.0          39.6  \n",
       "2018-03-01 08:00:00    6.0   43.0   66.0          28.4  \n",
       "2018-03-01 09:00:00   12.0    6.0   43.0          22.0  "
      ]
     },
     "metadata": {},
     "output_type": "display_data"
    }
   ],
   "source": [
    "def make_features(data, max_lag, rolling_mean_size):\n",
    "    data['month'] = data.index.month\n",
    "    data['day'] = data.index.day\n",
    "    data['dayofweek'] = data.index.dayofweek\n",
    "    data['hour'] = data.index.hour\n",
    "    \n",
    "    for lag in range(1, max_lag + 1):\n",
    "        data['lag_{}'.format(lag)] = data['num_orders'].shift(lag)\n",
    "\n",
    "    data['rolling_mean'] = data['num_orders'].shift().rolling(rolling_mean_size).mean()\n",
    "\n",
    "make_features(data, 5, 5)\n",
    "display(data.head(10))"
   ]
  },
  {
   "cell_type": "markdown",
   "id": "8072b318",
   "metadata": {},
   "source": [
    "# Train different models with different hyperparameters. the test sample should be 10% of the initial dataset"
   ]
  },
  {
   "cell_type": "markdown",
   "id": "902ff191",
   "metadata": {},
   "source": [
    "## split the dataset"
   ]
  },
  {
   "cell_type": "markdown",
   "id": "17c7037d",
   "metadata": {},
   "source": [
    "before the split, encoding cyclical features using trig functions:"
   ]
  },
  {
   "cell_type": "code",
   "execution_count": 65,
   "id": "2322a616",
   "metadata": {
    "ExecuteTime": {
     "end_time": "2022-09-22T13:58:29.938361Z",
     "start_time": "2022-09-22T13:58:29.885502Z"
    }
   },
   "outputs": [],
   "source": [
    "categorical_feats = ['month','day','dayofweek','hour']\n",
    "for c in categorical_feats:\n",
    "    data[f'{c}_norm'] = 2 * math.pi * data[c] / data[c].max()\n",
    "\n",
    "    data[f'cos_{c}'] = np.cos(data[f'{c}_norm'])\n",
    "    data[f'sin_{c}'] = np.sin(data[f'{c}_norm'])\n",
    "                                   \n",
    "                               "
   ]
  },
  {
   "cell_type": "code",
   "execution_count": 66,
   "id": "f0ba78bf",
   "metadata": {
    "ExecuteTime": {
     "end_time": "2022-09-22T13:58:29.984240Z",
     "start_time": "2022-09-22T13:58:29.944346Z"
    }
   },
   "outputs": [],
   "source": [
    "# x = data.drop('num_orders',axis=1)\n",
    "# y = data.num_orders\n",
    "data.drop(['month','day','dayofweek','hour','month_norm','day_norm','hour_norm','dayofweek_norm'],axis=1, inplace=True)\n",
    "\n",
    "train, test = train_test_split(data, test_size=0.2, shuffle=False)\n",
    "train=train.dropna()\n",
    "\n",
    "valid, test = train_test_split(test, test_size=0.5, shuffle=False)\n",
    "\n",
    "x_train = train.drop('num_orders', axis=1)\n",
    "y_train = train.num_orders\n",
    "\n",
    "x_valid = valid.drop('num_orders', axis=1)\n",
    "y_valid = valid.num_orders\n",
    "\n",
    "x_test = test.drop('num_orders', axis=1)\n",
    "y_test = test.num_orders\n",
    "# train and test split\n",
    "# x_train, x_valid, y_train, y_valid = train_test_split(\n",
    "#     x, y, test_size=0.2, shuffle=False)\n",
    "# x_valid, x_test, y_valid, y_test = train_test_split(x_valid, y_valid, test_size=0.5,\n",
    "#                                                                            shuffle=False)\n",
    "#x_train = x_train.dropna()"
   ]
  },
  {
   "cell_type": "markdown",
   "id": "21859fc7",
   "metadata": {},
   "source": [
    "## standardizing features:"
   ]
  },
  {
   "cell_type": "markdown",
   "id": "28a5aab0",
   "metadata": {},
   "source": [
    "we don't want to scale the cyclical features as they've already been standardized"
   ]
  },
  {
   "cell_type": "code",
   "execution_count": 67,
   "id": "eff9a751",
   "metadata": {
    "ExecuteTime": {
     "end_time": "2022-09-22T13:58:30.046075Z",
     "start_time": "2022-09-22T13:58:29.989224Z"
    }
   },
   "outputs": [],
   "source": [
    "scaler = StandardScaler()\n",
    "numeric = ['lag_1','lag_2','lag_3','lag_4','lag_5','rolling_mean']\n",
    "scaler.fit(x_train[numeric])\n",
    "\n",
    "x_train[numeric] = scaler.transform(x_train[numeric])\n",
    "x_valid[numeric] = scaler.transform(x_valid[numeric]) \n",
    "x_test[numeric] = scaler.transform(x_test[numeric])"
   ]
  },
  {
   "cell_type": "markdown",
   "id": "3ec6288a",
   "metadata": {},
   "source": [
    "## Linear regression"
   ]
  },
  {
   "cell_type": "code",
   "execution_count": 68,
   "id": "4140c488",
   "metadata": {
    "ExecuteTime": {
     "end_time": "2022-09-22T13:58:30.107913Z",
     "start_time": "2022-09-22T13:58:30.055049Z"
    }
   },
   "outputs": [
    {
     "name": "stdout",
     "output_type": "stream",
     "text": [
      "RMSE for the training set: 27.82765441208945\n",
      "RMSE for the validation set:  41.87913953899355\n"
     ]
    }
   ],
   "source": [
    "model=LinearRegression()\n",
    "model.fit(x_train, y_train)\n",
    "y_pred_train = model.predict(x_train)\n",
    "y_pred_valid = model.predict(x_valid)\n",
    "# y_pred_test = model.predict(x_test)\n",
    "\n",
    "\n",
    "\n",
    "\n",
    "print(\"RMSE for the training set:\", mean_squared_error(y_train, y_pred_train)**0.5)\n",
    "print(\"RMSE for the validation set: \", mean_squared_error(y_valid, y_pred_valid)**0.5) "
   ]
  },
  {
   "cell_type": "markdown",
   "id": "7fe80d9c",
   "metadata": {},
   "source": [
    "## Random forest regression"
   ]
  },
  {
   "cell_type": "code",
   "execution_count": 69,
   "id": "87320486",
   "metadata": {
    "ExecuteTime": {
     "end_time": "2022-09-22T13:58:34.189053Z",
     "start_time": "2022-09-22T13:58:30.111900Z"
    }
   },
   "outputs": [
    {
     "name": "stdout",
     "output_type": "stream",
     "text": [
      "RMSE for the training set: 8.048788047122507\n",
      "RMSE for the validation set:  40.13139884558184\n"
     ]
    }
   ],
   "source": [
    "model = RandomForestRegressor()\n",
    "model.fit(x_train, y_train)\n",
    "y_pred_train = model.predict(x_train)\n",
    "y_pred_valid = model.predict(x_valid)\n",
    "\n",
    "\n",
    "\n",
    "\n",
    "print(\"RMSE for the training set:\", mean_squared_error(y_train, y_pred_train)**0.5)\n",
    "print(\"RMSE for the validation set: \", mean_squared_error(y_valid, y_pred_valid)**0.5) "
   ]
  },
  {
   "cell_type": "code",
   "execution_count": 70,
   "id": "635eed3c",
   "metadata": {
    "ExecuteTime": {
     "end_time": "2022-09-22T13:58:36.278433Z",
     "start_time": "2022-09-22T13:58:34.193042Z"
    }
   },
   "outputs": [
    {
     "name": "stdout",
     "output_type": "stream",
     "text": [
      "RMSE for the training set: 8.279246311006224\n",
      "RMSE for the validation set:  39.185899232281685\n"
     ]
    }
   ],
   "source": [
    "model = RandomForestRegressor(n_estimators = 50)\n",
    "model.fit(x_train, y_train)\n",
    "y_pred_train = model.predict(x_train)\n",
    "y_pred_valid = model.predict(x_valid)\n",
    "\n",
    "\n",
    "\n",
    "\n",
    "print(\"RMSE for the training set:\", mean_squared_error(y_train, y_pred_train)**0.5)\n",
    "print(\"RMSE for the validation set: \", mean_squared_error(y_valid, y_pred_valid)**0.5) "
   ]
  },
  {
   "cell_type": "markdown",
   "id": "79b226fa",
   "metadata": {},
   "source": [
    "now for our secret weapon - \n",
    "## LightGBM"
   ]
  },
  {
   "cell_type": "code",
   "execution_count": 71,
   "id": "71fd7df7",
   "metadata": {
    "ExecuteTime": {
     "end_time": "2022-09-22T13:58:36.511810Z",
     "start_time": "2022-09-22T13:58:36.284418Z"
    },
    "scrolled": true
   },
   "outputs": [
    {
     "name": "stdout",
     "output_type": "stream",
     "text": [
      "[LightGBM] [Debug] Dataset::GetMultiBinFromAllFeatures: sparse rate 0.013184\n",
      "[LightGBM] [Debug] init for col-wise cost 0.000015 seconds, init for row-wise cost 0.005205 seconds\n",
      "[LightGBM] [Warning] Auto-choosing row-wise multi-threading, the overhead of testing was 0.000390 seconds.\n",
      "You can set `force_row_wise=true` to remove the overhead.\n",
      "And if memory is not enough, you can set `force_col_wise=true`.\n",
      "[LightGBM] [Debug] Using Dense Multi-Val Bin\n",
      "[LightGBM] [Info] Total Bins 1253\n",
      "[LightGBM] [Info] Number of data points in the train set: 3527, number of used features: 14\n",
      "[LightGBM] [Info] Start training from score 74.302523\n",
      "[LightGBM] [Debug] Trained a tree with leaves = 30 and depth = 8\n",
      "[1]\tvalid_0's rmse: 47.6122\n",
      "[LightGBM] [Debug] Trained a tree with leaves = 30 and depth = 8\n",
      "[2]\tvalid_0's rmse: 42.1076\n",
      "[LightGBM] [Debug] Trained a tree with leaves = 30 and depth = 8\n",
      "[3]\tvalid_0's rmse: 38.1691\n",
      "[LightGBM] [Debug] Trained a tree with leaves = 30 and depth = 7\n",
      "[4]\tvalid_0's rmse: 36.4452\n",
      "[LightGBM] [Debug] Trained a tree with leaves = 30 and depth = 10\n",
      "[5]\tvalid_0's rmse: 35.2229\n",
      "[LightGBM] [Debug] Trained a tree with leaves = 30 and depth = 8\n",
      "[6]\tvalid_0's rmse: 33.9038\n",
      "[LightGBM] [Debug] Trained a tree with leaves = 30 and depth = 15\n",
      "[7]\tvalid_0's rmse: 33.5936\n",
      "[LightGBM] [Debug] Trained a tree with leaves = 30 and depth = 10\n",
      "[8]\tvalid_0's rmse: 33.4459\n",
      "[LightGBM] [Debug] Trained a tree with leaves = 30 and depth = 9\n",
      "[9]\tvalid_0's rmse: 33.1399\n",
      "[LightGBM] [Debug] Trained a tree with leaves = 30 and depth = 15\n",
      "[10]\tvalid_0's rmse: 32.8906\n",
      "[LightGBM] [Debug] Trained a tree with leaves = 30 and depth = 10\n",
      "[11]\tvalid_0's rmse: 32.5966\n",
      "[LightGBM] [Debug] Trained a tree with leaves = 30 and depth = 10\n",
      "[12]\tvalid_0's rmse: 32.6025\n",
      "[LightGBM] [Debug] Trained a tree with leaves = 30 and depth = 13\n",
      "[13]\tvalid_0's rmse: 32.7404\n",
      "[LightGBM] [Debug] Trained a tree with leaves = 30 and depth = 14\n",
      "[14]\tvalid_0's rmse: 32.6653\n",
      "[LightGBM] [Debug] Trained a tree with leaves = 30 and depth = 12\n",
      "[15]\tvalid_0's rmse: 32.88\n",
      "[LightGBM] [Debug] Trained a tree with leaves = 30 and depth = 8\n",
      "[16]\tvalid_0's rmse: 32.9071\n",
      "[LightGBM] [Debug] Trained a tree with leaves = 30 and depth = 9\n",
      "[17]\tvalid_0's rmse: 32.9115\n",
      "[LightGBM] [Debug] Trained a tree with leaves = 30 and depth = 11\n",
      "[18]\tvalid_0's rmse: 33.0201\n",
      "[LightGBM] [Debug] Trained a tree with leaves = 30 and depth = 14\n",
      "[19]\tvalid_0's rmse: 32.9722\n",
      "[LightGBM] [Debug] Trained a tree with leaves = 30 and depth = 11\n",
      "[20]\tvalid_0's rmse: 32.963\n",
      "[LightGBM] [Debug] Trained a tree with leaves = 30 and depth = 10\n",
      "[21]\tvalid_0's rmse: 33.0138\n",
      "[LightGBM] [Debug] Trained a tree with leaves = 30 and depth = 11\n",
      "[22]\tvalid_0's rmse: 32.9626\n",
      "[LightGBM] [Debug] Trained a tree with leaves = 30 and depth = 12\n",
      "[23]\tvalid_0's rmse: 32.8285\n",
      "[LightGBM] [Debug] Trained a tree with leaves = 30 and depth = 13\n",
      "[24]\tvalid_0's rmse: 32.9033\n",
      "[LightGBM] [Debug] Trained a tree with leaves = 30 and depth = 12\n",
      "[25]\tvalid_0's rmse: 33.0311\n",
      "[LightGBM] [Debug] Trained a tree with leaves = 30 and depth = 10\n",
      "[26]\tvalid_0's rmse: 33.0647\n",
      "[LightGBM] [Debug] Trained a tree with leaves = 30 and depth = 15\n",
      "[27]\tvalid_0's rmse: 33.1402\n",
      "[LightGBM] [Debug] Trained a tree with leaves = 30 and depth = 13\n",
      "[28]\tvalid_0's rmse: 33.3181\n",
      "[LightGBM] [Debug] Trained a tree with leaves = 30 and depth = 11\n",
      "[29]\tvalid_0's rmse: 33.4296\n",
      "[LightGBM] [Debug] Trained a tree with leaves = 30 and depth = 15\n",
      "[30]\tvalid_0's rmse: 33.4108\n"
     ]
    }
   ],
   "source": [
    "import lightgbm as lgb\n",
    "\n",
    "params = {\n",
    "    'task': 'train', \n",
    "    'boosting': 'gbdt',\n",
    "    'objective': 'regression',\n",
    "    'num_leaves': 30,\n",
    "    'learning_rate': 0.4,\n",
    "    'metric': {'rmse'},\n",
    "    'verbose': 2\n",
    "}\n",
    "\n",
    "# loading data\n",
    "lgb_train = lgb.Dataset(x_train, y_train)\n",
    "lgb_eval = lgb.Dataset(x_valid, y_valid, reference=lgb_train)\n",
    "\n",
    "model = lgb.train(params,\n",
    "                  num_boost_round = 30,\n",
    "                 train_set=lgb_train,\n",
    "                 valid_sets=lgb_eval)"
   ]
  },
  {
   "cell_type": "code",
   "execution_count": 72,
   "id": "f58c46f6",
   "metadata": {
    "ExecuteTime": {
     "end_time": "2022-09-22T13:58:36.980817Z",
     "start_time": "2022-09-22T13:58:36.515799Z"
    },
    "scrolled": true
   },
   "outputs": [
    {
     "name": "stdout",
     "output_type": "stream",
     "text": [
      "[LightGBM] [Debug] Dataset::GetMultiBinFromAllFeatures: sparse rate 0.013184\n",
      "[LightGBM] [Debug] init for col-wise cost 0.000751 seconds, init for row-wise cost 0.002318 seconds\n",
      "[LightGBM] [Warning] Auto-choosing row-wise multi-threading, the overhead of testing was 0.001370 seconds.\n",
      "You can set `force_row_wise=true` to remove the overhead.\n",
      "And if memory is not enough, you can set `force_col_wise=true`.\n",
      "[LightGBM] [Debug] Using Dense Multi-Val Bin\n",
      "[LightGBM] [Info] Total Bins 1253\n",
      "[LightGBM] [Info] Number of data points in the train set: 3527, number of used features: 14\n",
      "[LightGBM] [Info] Start training from score 74.302523\n",
      "[LightGBM] [Debug] Trained a tree with leaves = 100 and depth = 13\n",
      "[1]\tvalid_0's rmse: 55.2882\n",
      "[LightGBM] [Debug] Trained a tree with leaves = 100 and depth = 14\n",
      "[2]\tvalid_0's rmse: 52.681\n",
      "[LightGBM] [Debug] Trained a tree with leaves = 100 and depth = 14\n",
      "[3]\tvalid_0's rmse: 50.404\n",
      "[LightGBM] [Debug] Trained a tree with leaves = 100 and depth = 13\n",
      "[4]\tvalid_0's rmse: 48.3866\n",
      "[LightGBM] [Debug] Trained a tree with leaves = 100 and depth = 13\n",
      "[5]\tvalid_0's rmse: 46.5918\n",
      "[LightGBM] [Debug] Trained a tree with leaves = 100 and depth = 15\n",
      "[6]\tvalid_0's rmse: 44.8959\n",
      "[LightGBM] [Debug] Trained a tree with leaves = 100 and depth = 14\n",
      "[7]\tvalid_0's rmse: 43.6246\n",
      "[LightGBM] [Debug] Trained a tree with leaves = 100 and depth = 14\n",
      "[8]\tvalid_0's rmse: 42.3248\n",
      "[LightGBM] [Debug] Trained a tree with leaves = 100 and depth = 13\n",
      "[9]\tvalid_0's rmse: 41.2353\n",
      "[LightGBM] [Debug] Trained a tree with leaves = 100 and depth = 16\n",
      "[10]\tvalid_0's rmse: 40.4012\n",
      "[LightGBM] [Debug] Trained a tree with leaves = 100 and depth = 15\n",
      "[11]\tvalid_0's rmse: 39.4735\n",
      "[LightGBM] [Debug] Trained a tree with leaves = 100 and depth = 17\n",
      "[12]\tvalid_0's rmse: 38.7567\n",
      "[LightGBM] [Debug] Trained a tree with leaves = 100 and depth = 15\n",
      "[13]\tvalid_0's rmse: 38.0982\n",
      "[LightGBM] [Debug] Trained a tree with leaves = 100 and depth = 14\n",
      "[14]\tvalid_0's rmse: 37.529\n",
      "[LightGBM] [Debug] Trained a tree with leaves = 100 and depth = 15\n",
      "[15]\tvalid_0's rmse: 37.1026\n",
      "[LightGBM] [Debug] Trained a tree with leaves = 100 and depth = 15\n",
      "[16]\tvalid_0's rmse: 36.5369\n",
      "[LightGBM] [Debug] Trained a tree with leaves = 100 and depth = 13\n",
      "[17]\tvalid_0's rmse: 36.0444\n",
      "[LightGBM] [Debug] Trained a tree with leaves = 100 and depth = 17\n",
      "[18]\tvalid_0's rmse: 35.5703\n",
      "[LightGBM] [Debug] Trained a tree with leaves = 100 and depth = 15\n",
      "[19]\tvalid_0's rmse: 35.3051\n",
      "[LightGBM] [Debug] Trained a tree with leaves = 100 and depth = 16\n",
      "[20]\tvalid_0's rmse: 34.9254\n",
      "[LightGBM] [Debug] Trained a tree with leaves = 100 and depth = 16\n",
      "[21]\tvalid_0's rmse: 34.6424\n",
      "[LightGBM] [Debug] Trained a tree with leaves = 100 and depth = 17\n",
      "[22]\tvalid_0's rmse: 34.3685\n",
      "[LightGBM] [Debug] Trained a tree with leaves = 100 and depth = 12\n",
      "[23]\tvalid_0's rmse: 34.1502\n",
      "[LightGBM] [Debug] Trained a tree with leaves = 100 and depth = 15\n",
      "[24]\tvalid_0's rmse: 33.9811\n",
      "[LightGBM] [Debug] Trained a tree with leaves = 100 and depth = 17\n",
      "[25]\tvalid_0's rmse: 33.833\n",
      "[LightGBM] [Debug] Trained a tree with leaves = 100 and depth = 23\n",
      "[26]\tvalid_0's rmse: 33.6639\n",
      "[LightGBM] [Debug] Trained a tree with leaves = 100 and depth = 14\n",
      "[27]\tvalid_0's rmse: 33.4352\n",
      "[LightGBM] [Debug] Trained a tree with leaves = 100 and depth = 14\n",
      "[28]\tvalid_0's rmse: 33.3387\n",
      "[LightGBM] [Debug] Trained a tree with leaves = 100 and depth = 20\n",
      "[29]\tvalid_0's rmse: 33.2964\n",
      "[LightGBM] [Debug] Trained a tree with leaves = 100 and depth = 20\n",
      "[30]\tvalid_0's rmse: 33.2679\n"
     ]
    }
   ],
   "source": [
    "params = {\n",
    "    'task': 'train', \n",
    "    'boosting': 'gbdt',\n",
    "    'objective': 'regression',\n",
    "    'num_leaves': 100,\n",
    "    'learning_rate': 0.1,\n",
    "    'metric': {'rmse'},\n",
    "    'verbose': 2\n",
    "}\n",
    "\n",
    "# loading data\n",
    "lgb_train = lgb.Dataset(x_train, y_train)\n",
    "lgb_eval = lgb.Dataset(x_valid, y_valid, reference=lgb_train)\n",
    "\n",
    "model = lgb.train(params,\n",
    "                  num_boost_round = 30,\n",
    "                 train_set=lgb_train,\n",
    "                 valid_sets=lgb_eval)"
   ]
  },
  {
   "cell_type": "markdown",
   "id": "6f8af960",
   "metadata": {},
   "source": [
    "# Test the data using the test sample and provide a conclusion"
   ]
  },
  {
   "cell_type": "markdown",
   "id": "18ec751f",
   "metadata": {},
   "source": [
    "best model was random forest with n_est=50. now to train on training+validation sets and test on test set"
   ]
  },
  {
   "cell_type": "code",
   "execution_count": 73,
   "id": "28368be5",
   "metadata": {
    "ExecuteTime": {
     "end_time": "2022-09-22T13:58:39.407814Z",
     "start_time": "2022-09-22T13:58:36.984807Z"
    }
   },
   "outputs": [
    {
     "name": "stdout",
     "output_type": "stream",
     "text": [
      "RMSE for the training+validation sets: 8.61434826432902\n",
      "RMSE for the test set:  44.758601296792655\n"
     ]
    }
   ],
   "source": [
    "model = RandomForestRegressor(n_estimators=50)\n",
    "model.fit(pd.concat([x_train,x_valid]), pd.concat([y_train,y_valid]))\n",
    "y_pred_train = model.predict(pd.concat([x_train,x_valid]))\n",
    "y_pred_valid = model.predict(x_test)\n",
    "\n",
    "\n",
    "\n",
    "\n",
    "print(\"RMSE for the training+validation sets:\", mean_squared_error(pd.concat([y_train,y_valid]), y_pred_train)**0.5)\n",
    "print(\"RMSE for the test set: \", mean_squared_error(y_test, y_pred_valid)**0.5) "
   ]
  },
  {
   "cell_type": "markdown",
   "id": "6f03de9f",
   "metadata": {},
   "source": [
    "# Conclusion"
   ]
  },
  {
   "cell_type": "markdown",
   "id": "15efcf35",
   "metadata": {},
   "source": [
    "our best model was against my expectations the random forest with a lowered number of estimators. goes to show sometimes the flashy machines (i'm looking at you, LightGBM) don't always do the best job. "
   ]
  }
 ],
 "metadata": {
  "kernelspec": {
   "display_name": "Python 3 (ipykernel)",
   "language": "python",
   "name": "python3"
  },
  "language_info": {
   "codemirror_mode": {
    "name": "ipython",
    "version": 3
   },
   "file_extension": ".py",
   "mimetype": "text/x-python",
   "name": "python",
   "nbconvert_exporter": "python",
   "pygments_lexer": "ipython3",
   "version": "3.8.8"
  },
  "toc": {
   "base_numbering": 1,
   "nav_menu": {},
   "number_sections": true,
   "sideBar": true,
   "skip_h1_title": false,
   "title_cell": "Table of Contents",
   "title_sidebar": "Contents",
   "toc_cell": false,
   "toc_position": {},
   "toc_section_display": true,
   "toc_window_display": true
  }
 },
 "nbformat": 4,
 "nbformat_minor": 5
}
